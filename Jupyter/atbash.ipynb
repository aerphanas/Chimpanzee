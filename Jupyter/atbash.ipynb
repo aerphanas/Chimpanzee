{
 "cells": [
  {
   "cell_type": "markdown",
   "metadata": {},
   "source": [
    "# Atbash Encryption"
   ]
  },
  {
   "cell_type": "markdown",
   "metadata": {},
   "source": [
    "Atbash is a monoalphabetic substitution cipher, Atbash has the initial goal of encrypting the Hebrew alphabet, this is an example of the application of the Atbash cipher in Latin letters:"
   ]
  },
  {
   "cell_type": "markdown",
   "metadata": {},
   "source": [
    "|Plain |A|B|C|D|E|F|G|H|I|J|K|L|M|N|O|P|Q|R|S|T|U|V|W|X|Y|Z|\n",
    "|------|-|-|-|-|-|-|-|-|-|-|-|-|-|-|-|-|-|-|-|-|-|-|-|-|-|-|\n",
    "|Cipher|Z|Y|X|W|V|U|T|S|R|Q|P|O|N|M|L|K|J|I|H|G|F|E|D|C|B|A|"
   ]
  },
  {
   "cell_type": "markdown",
   "metadata": {},
   "source": [
    "> because there is no key so Atbash has less security"
   ]
  },
  {
   "cell_type": "code",
   "execution_count": 1,
   "metadata": {},
   "outputs": [],
   "source": [
    "import qualified Data.Char as DC -- chr, ord, isAlpha, isUpper"
   ]
  },
  {
   "cell_type": "code",
   "execution_count": 2,
   "metadata": {},
   "outputs": [],
   "source": [
    "doAlg::Int -> Int\n",
    "doAlg x\n",
    "    | DC.isAlpha . DC.chr $ x = x + 26 - (x - checkAlpha ) - (x - checkAlpha) - 1\n",
    "    | otherwise               = x -- do algorithm only on alphabetic\n",
    "    where checkAlpha = if DC.isUpper . DC.chr $ x then 65 else 97\n",
    "        -- we need a check to get the initial value\n",
    "        -- what the algorithm needs, the uppercase value is 65\n",
    "        -- while lowercase is 97"
   ]
  },
  {
   "cell_type": "code",
   "execution_count": 3,
   "metadata": {},
   "outputs": [],
   "source": [
    "encrypt::[Char] -> [Char]\n",
    "encrypt = map (DC.chr . doAlg . DC.ord)\n",
    "-- here I change letters to numbers to make it easier for us to make algorithms\n",
    "-- after doing the encryption I change the numbers back to letters"
   ]
  },
  {
   "cell_type": "code",
   "execution_count": 4,
   "metadata": {},
   "outputs": [],
   "source": [
    "decrypt::[Char] -> [Char]\n",
    "decrypt = encrypt\n",
    "-- because of Algorithm we dont need to find the algorithm for decryption"
   ]
  },
  {
   "cell_type": "code",
   "execution_count": 5,
   "metadata": {},
   "outputs": [
    {
     "data": {
      "text/plain": [
       "\"svool dliow\""
      ]
     },
     "metadata": {},
     "output_type": "display_data"
    }
   ],
   "source": [
    "encrypt \"hello world\""
   ]
  },
  {
   "cell_type": "code",
   "execution_count": 6,
   "metadata": {},
   "outputs": [
    {
     "data": {
      "text/plain": [
       "\"hello world\""
      ]
     },
     "metadata": {},
     "output_type": "display_data"
    }
   ],
   "source": [
    "decrypt \"svool dliow\""
   ]
  },
  {
   "cell_type": "code",
   "execution_count": null,
   "metadata": {},
   "outputs": [],
   "source": []
  }
 ],
 "metadata": {
  "kernelspec": {
   "display_name": "Haskell",
   "language": "haskell",
   "name": "haskell"
  },
  "language_info": {
   "codemirror_mode": "ihaskell",
   "file_extension": ".hs",
   "mimetype": "text/x-haskell",
   "name": "haskell",
   "pygments_lexer": "Haskell",
   "version": "9.0.2"
  },
  "orig_nbformat": 4,
  "vscode": {
   "interpreter": {
    "hash": "cc80886bcc5ed09f75b5e48c1a10b09810617923f58565071dfc1d0a11aa75d4"
   }
  }
 },
 "nbformat": 4,
 "nbformat_minor": 2
}
