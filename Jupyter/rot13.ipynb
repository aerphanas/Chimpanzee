{
 "cells": [
  {
   "cell_type": "markdown",
   "metadata": {},
   "source": [
    "# Rot13 Encryption"
   ]
  },
  {
   "cell_type": "markdown",
   "metadata": {},
   "source": [
    "Rot13 stands for \"rotate by 13 places\" This cipher has characteristics like Caesar cipher, but this cipher only inputs one input without shift, because in this cipher it immediately shifts to 13, here is the ROT13 encryption table:"
   ]
  },
  {
   "cell_type": "markdown",
   "metadata": {},
   "source": [
    "|Plain |A|B|C|D|E|F|G|H|I|J|K|L|M|N|O|P|Q|R|S|T|U|V|W|X|Y|Z|\n",
    "|------|-|-|-|-|-|-|-|-|-|-|-|-|-|-|-|-|-|-|-|-|-|-|-|-|-|-|\n",
    "|Cipher|N|O|P|Q|R|S|T|U|V|W|X|Y|Z|A|B|C|D|E|F|G|H|i|J|K|L|M|"
   ]
  },
  {
   "cell_type": "code",
   "execution_count": 1,
   "metadata": {},
   "outputs": [],
   "source": [
    "import qualified Data.Char as DC -- chr, ord, isAlpha, isUpper"
   ]
  },
  {
   "cell_type": "markdown",
   "metadata": {},
   "source": [
    "checking if alphabet is greater than number and do the calculation if the number greater than z or 90 in uppercase and 122 in lowercase the algorithm will be (number - 25) - (13 - 1) or else x + 13"
   ]
  },
  {
   "cell_type": "code",
   "execution_count": 2,
   "metadata": {},
   "outputs": [],
   "source": [
    "doEncAlg::Int -> Int\n",
    "doEncAlg x\n",
    "    | DC.isAlpha . DC.chr $ x = if checkOver then (x - 25) +  (13 - 1) else x + 13\n",
    "    | otherwise               = x -- do algorithm only on alphabetic\n",
    "    where\n",
    "        checkAlpha = if DC.isUpper . DC.chr $ x then 90 else 122\n",
    "        checkOver  = (x + 13) > checkAlpha"
   ]
  },
  {
   "cell_type": "markdown",
   "metadata": {},
   "source": [
    "the calculation is same as encryption but this time we do the opposite if the number smaller than 'a' (97) and 'A' (65) letter, and do opposite calculation the algorithm will be (number + 25) - (13 + 1) or else x - 13"
   ]
  },
  {
   "cell_type": "code",
   "execution_count": 3,
   "metadata": {},
   "outputs": [],
   "source": [
    "doDecAlg::Int -> Int\n",
    "doDecAlg x\n",
    "    | DC.isAlpha . DC.chr $ x = if checkOver then (x + 25) -  (13 + 1) + 2 else x - 13\n",
    "    | otherwise               = x\n",
    "    where\n",
    "        checkAlpha = if DC.isUpper . DC.chr $ x then 65 else 97\n",
    "        checkOver  = (x - 13) < checkAlpha"
   ]
  },
  {
   "cell_type": "code",
   "execution_count": 4,
   "metadata": {},
   "outputs": [],
   "source": [
    "encrypt::[Char] -> [Char]\n",
    "encrypt = map (DC.chr . doEncAlg . DC.ord) -- convert Alphabet, do the encription algorithm and give the result"
   ]
  },
  {
   "cell_type": "code",
   "execution_count": 5,
   "metadata": {},
   "outputs": [],
   "source": [
    "decrypt::[Char] -> [Char]\n",
    "decrypt = map (DC.chr . doDecAlg . DC.ord) -- do the decryption algorithm"
   ]
  },
  {
   "cell_type": "code",
   "execution_count": 6,
   "metadata": {},
   "outputs": [
    {
     "data": {
      "text/plain": [
       "\"uryyb jbeyq\""
      ]
     },
     "metadata": {},
     "output_type": "display_data"
    }
   ],
   "source": [
    "encrypt \"hello world\""
   ]
  },
  {
   "cell_type": "code",
   "execution_count": 7,
   "metadata": {},
   "outputs": [
    {
     "data": {
      "text/plain": [
       "\"hello world\""
      ]
     },
     "metadata": {},
     "output_type": "display_data"
    }
   ],
   "source": [
    "decrypt \"uryyb jbeyq\""
   ]
  }
 ],
 "metadata": {
  "kernelspec": {
   "display_name": "Haskell",
   "language": "haskell",
   "name": "haskell"
  },
  "language_info": {
   "codemirror_mode": "ihaskell",
   "file_extension": ".hs",
   "mimetype": "text/x-haskell",
   "name": "haskell",
   "pygments_lexer": "Haskell",
   "version": "9.0.2"
  },
  "orig_nbformat": 4
 },
 "nbformat": 4,
 "nbformat_minor": 2
}
