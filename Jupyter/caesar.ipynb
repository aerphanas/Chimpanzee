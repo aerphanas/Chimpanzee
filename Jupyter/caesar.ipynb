{
 "cells": [
  {
   "cell_type": "markdown",
   "metadata": {},
   "source": [
    "# Caesar Encryption"
   ]
  },
  {
   "cell_type": "markdown",
   "metadata": {},
   "source": [
    "Caesar or commonly known as shift cipher is one of the simplest and most widely known ciphers, Caesar cipher is a substitution type for example: if we give 'A' to caesar cipher and give the number 5 as shift then caesar cipher will give the letter 'F', this is full table:"
   ]
  },
  {
   "cell_type": "markdown",
   "metadata": {},
   "source": [
    "|Plain |A|B|C|D|E|F|G|H|I|J|K|L|M|N|O|P|Q|R|S|T|U|V|W|X|Y|Z|\n",
    "|------|-|-|-|-|-|-|-|-|-|-|-|-|-|-|-|-|-|-|-|-|-|-|-|-|-|-|\n",
    "|Cipher|F|G|H|I|J|K|L|M|N|O|P|Q|R|S|T|U|V|W|X|Y|Z|E|D|C|B|A|"
   ]
  },
  {
   "cell_type": "code",
   "execution_count": 1,
   "metadata": {},
   "outputs": [],
   "source": [
    "import qualified Data.Char as DC -- chr, ord, isAlpha, isUpper"
   ]
  },
  {
   "cell_type": "markdown",
   "metadata": {},
   "source": [
    "this function will check if the input is Integer of Char if the input is not char this function wil return its value if the input is alpha this funciton wil shift the value to the given number"
   ]
  },
  {
   "cell_type": "code",
   "execution_count": 2,
   "metadata": {},
   "outputs": [],
   "source": [
    "doEncAlg::Int -> Int -> Int\n",
    "doEncAlg shift x\n",
    "    | DC.isAlpha . DC.chr $ x = if checkOver then (x - 25) +  (shift - 1) else x + shift\n",
    "    | otherwise               = x -- do algorithm only on alphabetic\n",
    "    where\n",
    "        checkAlpha = if DC.isUpper . DC.chr $ x then 90 else 122\n",
    "        checkOver  = (x + shift) > checkAlpha"
   ]
  },
  {
   "cell_type": "markdown",
   "metadata": {},
   "source": [
    "this function works like doEncAlg, but do the opposite"
   ]
  },
  {
   "cell_type": "code",
   "execution_count": 3,
   "metadata": {},
   "outputs": [],
   "source": [
    "doDecAlg::Int -> Int -> Int\n",
    "doDecAlg shift x\n",
    "    | DC.isAlpha . DC.chr $ x = if checkOver then (x + 25) -  (shift + 1) + 2 else x - shift\n",
    "    | otherwise               = x\n",
    "    where\n",
    "        checkAlpha = if DC.isUpper . DC.chr $ x then 65 else 97\n",
    "        checkOver  = (x - shift) < checkAlpha"
   ]
  },
  {
   "cell_type": "code",
   "execution_count": 4,
   "metadata": {},
   "outputs": [],
   "source": [
    "encrypt::Int -> [Char] -> [Char]\n",
    "encrypt shift = map (DC.chr . doEncAlg shift . DC.ord)"
   ]
  },
  {
   "cell_type": "code",
   "execution_count": 5,
   "metadata": {},
   "outputs": [],
   "source": [
    "decrypt::Int -> [Char] -> [Char]\n",
    "decrypt shift = map (DC.chr . doDecAlg shift . DC.ord)"
   ]
  },
  {
   "cell_type": "code",
   "execution_count": 6,
   "metadata": {},
   "outputs": [
    {
     "data": {
      "text/plain": [
       "\"ifmmp xpsme\""
      ]
     },
     "metadata": {},
     "output_type": "display_data"
    }
   ],
   "source": [
    "encrypt 1 \"hello world\""
   ]
  },
  {
   "cell_type": "code",
   "execution_count": 7,
   "metadata": {},
   "outputs": [
    {
     "data": {
      "text/plain": [
       "\"hello world\""
      ]
     },
     "metadata": {},
     "output_type": "display_data"
    }
   ],
   "source": [
    "decrypt 1 \"ifmmp xpsme\""
   ]
  }
 ],
 "metadata": {
  "kernelspec": {
   "display_name": "Haskell",
   "language": "haskell",
   "name": "haskell"
  },
  "language_info": {
   "codemirror_mode": "ihaskell",
   "file_extension": ".hs",
   "mimetype": "text/x-haskell",
   "name": "haskell",
   "pygments_lexer": "Haskell",
   "version": "9.0.2"
  },
  "orig_nbformat": 4
 },
 "nbformat": 4,
 "nbformat_minor": 2
}
