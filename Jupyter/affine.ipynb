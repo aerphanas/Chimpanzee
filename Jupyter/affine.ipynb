{
 "cells": [
  {
   "cell_type": "markdown",
   "metadata": {},
   "source": [
    "# Affine Encryption"
   ]
  },
  {
   "cell_type": "markdown",
   "metadata": {},
   "source": [
    "affine is a cipher of the type [monoalphabetic substitution cipher](https://en.wikipedia.org/wiki/Substitution_cipher), where numbers are changed or encrypted using mathematical formulas/functions and changed back with mathematical formulas/functions, which means that the encrypted letters are basically substitution letters, it has the disadvantage of all substitution passwords. Each letter uses the function Fx = (a * x + b) mod 26 where b is the number of shifts, therefore the name of this cipher may be inspired by [Affine transformation](https://en.wikipedia.org/wiki/Affine_transformation), if we use 5 as 'a' and 8 as 'b' then the Affine encryption table is :"
   ]
  },
  {
   "cell_type": "markdown",
   "metadata": {},
   "source": [
    "|Plain |A|B|C|D|E|F|G|H|I|J|K|L|M|N|O|P|Q|R|S|T|U|V|W|X|Y|Z|\n",
    "|------|-|-|-|-|-|-|-|-|-|-|-|-|-|-|-|-|-|-|-|-|-|-|-|-|-|-|\n",
    "|Cipher|I|N|S|X|C|H|M|R|W|B|G|L|Q|V|A|F|K|P|U|Z|E|J|O|T|Y|D|"
   ]
  },
  {
   "cell_type": "code",
   "execution_count": 1,
   "metadata": {},
   "outputs": [],
   "source": [
    "import qualified Data.Char as DC -- chr, ord, isAlpha, isUpper\n",
    "import qualified Data.List as DL -- head, filter"
   ]
  },
  {
   "cell_type": "code",
   "execution_count": 2,
   "metadata": {},
   "outputs": [],
   "source": [
    "doEncAlg::Int -> Int -> Int -> Int\n",
    "doEncAlg a b x\n",
    "    | DC.isAlpha . DC.chr $ x = doMath + initChar\n",
    "    | otherwise               = x -- pattern matching to everything except alphabet will be return itself\n",
    "    where\n",
    "        initChar = if DC.isUpper $ DC.chr x then 65 else 97\n",
    "        numChar  = x - initChar\n",
    "        doMath   = (a * numChar + b) `mod` 26"
   ]
  },
  {
   "cell_type": "code",
   "execution_count": 3,
   "metadata": {},
   "outputs": [],
   "source": [
    "doDecAlg::Int -> Int -> Int -> Int\n",
    "doDecAlg a b x\n",
    "    | DC.isAlpha . DC.chr $ x = doMath + initChar\n",
    "    | otherwise               = x\n",
    "    where\n",
    "        aInv = DL.head $ DL.filter (\\x -> ((a*x) `mod` 26)==1) [0..26]\n",
    "        initChar = if DC.isUpper $ DC.chr x then 65 else 97\n",
    "        numChar  = x - initChar\n",
    "        doMath   = aInv * (numChar - b) `mod` 26"
   ]
  },
  {
   "cell_type": "code",
   "execution_count": 4,
   "metadata": {},
   "outputs": [],
   "source": [
    "encrypt::Int -> Int -> [Char] -> [Char]\n",
    "encrypt a b = map (DC.chr . doEncAlg a b . DC.ord)"
   ]
  },
  {
   "cell_type": "code",
   "execution_count": 5,
   "metadata": {},
   "outputs": [],
   "source": [
    "decrypt::Int -> Int -> [Char] -> [Char]\n",
    "decrypt a b = map (DC.chr . doDecAlg a b . DC.ord)"
   ]
  },
  {
   "cell_type": "code",
   "execution_count": 6,
   "metadata": {},
   "outputs": [
    {
     "data": {
      "text/plain": [
       "\"rclla oaplx\""
      ]
     },
     "metadata": {},
     "output_type": "display_data"
    }
   ],
   "source": [
    "encrypt 5 8 \"hello world\""
   ]
  },
  {
   "cell_type": "code",
   "execution_count": 7,
   "metadata": {},
   "outputs": [
    {
     "data": {
      "text/plain": [
       "\"hello world\""
      ]
     },
     "metadata": {},
     "output_type": "display_data"
    }
   ],
   "source": [
    "decrypt 5 8 \"rclla oaplx\""
   ]
  }
 ],
 "metadata": {
  "kernelspec": {
   "display_name": "Haskell",
   "language": "haskell",
   "name": "haskell"
  },
  "language_info": {
   "codemirror_mode": "ihaskell",
   "file_extension": ".hs",
   "mimetype": "text/x-haskell",
   "name": "haskell",
   "pygments_lexer": "Haskell",
   "version": "9.0.2"
  },
  "orig_nbformat": 4
 },
 "nbformat": 4,
 "nbformat_minor": 2
}
